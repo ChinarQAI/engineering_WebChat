{
 "cells": [
  {
   "cell_type": "code",
   "execution_count": 1,
   "metadata": {},
   "outputs": [],
   "source": [
    "import os\n",
    "import re\n",
    "from dotenv import load_dotenv\n",
    "from langchain_community.utilities import GoogleSerperAPIWrapper\n",
    "\n",
    "# Get the current working directory\n",
    "current_directory = os.getcwd()\n",
    "dotenv_path = os.path.join(current_directory, \"./.env\")\n",
    "\n",
    "# Clear the environment variables\n",
    "os.environ.clear()\n",
    "\n",
    "# Load environment variables from the .env file\n",
    "load_dotenv(dotenv_path)\n",
    "\n",
    "# Fetching API keys from environment variables\n",
    "SERPER_API_KEY = os.getenv(\"SERPER_API_KEY\")\n",
    "OPENAI_API_KEY = os.getenv(\"OPENAI_API_KEY\")\n",
    "LANGCHAIN_API_KEY= os.environ.get(\"LANGCHAIN_API_KEY\")"
   ]
  },
  {
   "cell_type": "code",
   "execution_count": null,
   "metadata": {},
   "outputs": [],
   "source": [
    "prompt_id= self.settings[\"parent_settings\"][\"agent_id\"]\n",
    "prompt= get_prompt(prompt_id)"
   ]
  },
  {
   "cell_type": "code",
   "execution_count": 13,
   "metadata": {},
   "outputs": [
    {
     "name": "stdout",
     "output_type": "stream",
     "text": [
      "b3ad7bccbc0819ae63cb8584aa2556dc28d68a89\n"
     ]
    }
   ],
   "source": [
    "print(SERPER_API_KEY)"
   ]
  },
  {
   "cell_type": "code",
   "execution_count": 14,
   "metadata": {},
   "outputs": [],
   "source": [
    "def extract_urls(results: dict):\n",
    "        \"\"\"\n",
    "        Extracts URLs from search results.\n",
    "\n",
    "        Args:\n",
    "            results (dict): The search results.\n",
    "\n",
    "        Returns:\n",
    "            list: A list of extracted URLs.\n",
    "        \"\"\"\n",
    "        url_list = set(result['link'] for result in results.get('organic', []))\n",
    "        return list(url_list)"
   ]
  },
  {
   "cell_type": "markdown",
   "metadata": {},
   "source": []
  },
  {
   "cell_type": "code",
   "execution_count": 47,
   "metadata": {},
   "outputs": [],
   "source": [
    "def perform_search(query: str):\n",
    "        \"\"\"\n",
    "        Performs a search using the configured search API.\n",
    "\n",
    "        Args:\n",
    "            query (str): The search query.\n",
    "\n",
    "        Returns:\n",
    "            tuple: A tuple containing the search response and a list of extracted URLs.\n",
    "        \"\"\"\n",
    "        \n",
    "        search_api= GoogleSerperAPIWrapper()\n",
    "        website_url = \"www.wildfloc.com\"\n",
    "        modified_query = f\"site:{website_url} {query} \"\n",
    "        response = search_api.run(query=modified_query)\n",
    "        results = search_api.results(modified_query)\n",
    "        return response, extract_urls(results)"
   ]
  },
  {
   "cell_type": "code",
   "execution_count": 16,
   "metadata": {},
   "outputs": [
    {
     "name": "stdout",
     "output_type": "stream",
     "text": [
      "(\"Wildfloc is your one-stop adventure destination. Book the best travel & adventure trips anywhere at UNBEATABLE prices. Check out all our offers here. Make the most of your trip to Kasmir with a 7-day ski adventure in Gulmarg: Wildfloc Adventure's Kashmir Ski experience provides you with a luxury five-day ... Missing: price | Show results with:price. Tours and Travelling ; Offbeat Kashmir - The South Kashmir Circuit - Tour. Offbeat Kashmir - The South Kashmir Circuit. ₹ 19,999 ; Athwatoo - Bandipora - Tour. OTHER POPULAR TOURS ; Offbeat Kashmir - The South Kashmir Circuit - Tour. Offbeat Kashmir - The South Kashmir Circuit. ₹ 19,999 ; Athwatoo - Bandipora - Tour. Missing: price | Show results with:price. Adventure Sports in Gulmarg - Tour. Adventure Sports in Gulmarg. ₹ 1,500 ; Rent Camping Equipment in Kashmir - Tour. Rent Camping Equipment in Kashmir. ₹ 1,099. Wildfloc presents an exquisite offbeat travel package to all these places. ... $460.00. per adult (price varies by group size). 5 ... Trip to Beautiful Gulmarg from ... Booking your next trip to Gulmarg? Get ready for some of the most exciting adventures in Winter Wonderland. Wildfloc is here to make your journey ... Everything We Got ; Gurez Cultural Tour - Travel back in Time - Tour. Gurez Cultural Tour - Travel back in Time. ₹ 39,999. 6 Nights 7 Days · ₹ 39,999 ; Tosa Wild ... Offbeat Kashmir Tour Package. ₹ 29,999. Offbeat places in Kashmir Kashmir is mostly know for its tourists places like Srinagar, Gulmarg, Pahalgam, &amp ... Gulmarg Packages Starting @Rs. 11599. Intro With snow melting over the Pir Panjal ranges around Gulmarg, the season of flowers and cross country hiking and ...\", ['https://www.wildfloc.com/tours/full-kashmir-tour', 'https://www.wildfloc.com/collections/offbeat-kashmir', 'https://www.wildfloc.com/collections/activities', 'https://www.wildfloc.com/collections/everything-under-the-sun', 'https://www.tripadvisor.com/Attraction_Review-g317095-d26496263-Reviews-Offbeat_Kashmir_Tour_Package-Gulmarg_Baramulla_District_Kashmir_Jammu_and_Kashmi.html', 'https://www.wildfloc.com/tours/adventure-sports-in-gulmarg', 'https://www.wildfloc.com/skiing-in-gulmarg', 'https://www.wildfloc.com/', 'https://www.yatra.com/india-tour-packages/holidays-in-gulmarg', 'https://www.wildfloc.com/collections/tours-and-travelling'])\n"
     ]
    }
   ],
   "source": [
    "print(perform_search(\"Gulmarg trip price\"))"
   ]
  },
  {
   "cell_type": "code",
   "execution_count": 17,
   "metadata": {},
   "outputs": [
    {
     "data": {
      "text/plain": [
       "'Human: \\nAnswer the question based on the context below. If you can\\'t \\nanswer the question, reply \"I don\\'t know\".\\n\\nContext: Mary\\'s sister is Susana\\n\\nQuestion: Who is Mary\\'s sister?\\n'"
      ]
     },
     "execution_count": 17,
     "metadata": {},
     "output_type": "execute_result"
    }
   ],
   "source": [
    "from langchain.prompts import ChatPromptTemplate\n",
    "\n",
    "template = \"\"\"\n",
    "Answer the question based on the context below. If you can't \n",
    "answer the question, reply \"I don't know\".\n",
    "\n",
    "Context: {context}\n",
    "\n",
    "Question: {question}\n",
    "\"\"\"\n",
    "\n",
    "prompt = ChatPromptTemplate.from_template(template)\n",
    "prompt.format(context=\"Mary's sister is Susana\", question=\"Who is Mary's sister?\")"
   ]
  },
  {
   "cell_type": "code",
   "execution_count": 18,
   "metadata": {},
   "outputs": [],
   "source": [
    "from langchain_openai.chat_models import ChatOpenAI\n",
    "\n",
    "model = ChatOpenAI(openai_api_key=OPENAI_API_KEY, model=\"gpt-3.5-turbo\")\n"
   ]
  },
  {
   "cell_type": "code",
   "execution_count": 20,
   "metadata": {},
   "outputs": [
    {
     "data": {
      "text/plain": [
       "AIMessage(content='Susana', response_metadata={'token_usage': {'completion_tokens': 2, 'prompt_tokens': 50, 'total_tokens': 52}, 'model_name': 'gpt-3.5-turbo', 'system_fingerprint': None, 'finish_reason': 'stop', 'logprobs': None}, id='run-9a53eedb-c734-4434-861b-0e66f03bac03-0')"
      ]
     },
     "execution_count": 20,
     "metadata": {},
     "output_type": "execute_result"
    }
   ],
   "source": [
    "chain = prompt | model\n",
    "chain.invoke({\n",
    "    \"context\": \"Mary's sister is Susana\",\n",
    "    \"question\": \"Who is Mary's sister?\"\n",
    "})\n"
   ]
  },
  {
   "cell_type": "code",
   "execution_count": 30,
   "metadata": {},
   "outputs": [],
   "source": [
    "response, urls= perform_search(\"Self drive car rentals\")"
   ]
  },
  {
   "cell_type": "code",
   "execution_count": 29,
   "metadata": {},
   "outputs": [
    {
     "name": "stdout",
     "output_type": "stream",
     "text": [
      "Wildfloc is your one-stop adventure destination. Book the best travel & adventure trips anywhere at UNBEATABLE prices. Check out all our offers here. Workation in Kashmir is a great way to not only work but travel the beautiful place. Pack your bags and get set for a memorable time. Missing: price | Show results with:price. Tours and Travelling ; Offbeat Kashmir - The South Kashmir Circuit - Tour. Offbeat Kashmir - The South Kashmir Circuit. ₹ 19,999 ; Athwatoo - Bandipora - Tour. Looking for a unique travel experience in Kashmir? Check out the list of handcrafted and unique tours curated by Wildfloc. Enquire Now to get the best ... Kausarnaag Trek 3 Day 2 Nights - Tour. Kausarnaag Trek 3 Day 2 Nights. ₹ 12,999 · 04 May, 05 May, 11 May, and more. Aharbal ; Kashmir Tour (Seven days) - Tour. Wildfloc is a goto place for Premium Offbeat Tours and Camping. We have expertise in exploring unique lesser-known places in Kashmir. Adventure Sports in Gulmarg - Tour. Adventure Sports in Gulmarg. ₹ 1,500. 1 Hour ; Rent Camping Equipment in Kashmir - Tour. Rent Camping Equipment in Kashmir. Missing: Workstation | Show results with:Workstation. Adventure Tours Providers in Kashmir, Jammu & Kashmir. Get contact details and address of Adventure Tours, Adventurous Tours firms and companies in Kashmir. These vehicles can be hired on a direct payment basis or the same can be arranged by us at an additional cost. The package price doesn't include special dinner ... Missing: Workstation | Show results with:Workstation.\n"
     ]
    }
   ],
   "source": [
    "print(response)"
   ]
  },
  {
   "cell_type": "code",
   "execution_count": 24,
   "metadata": {},
   "outputs": [
    {
     "name": "stdout",
     "output_type": "stream",
     "text": [
      "['https://www.wildfloc.com/tours/full-kashmir-tour', 'https://www.wildfloc.com/collections/offbeat-kashmir', 'https://www.wildfloc.com/collections/activities', 'https://www.wildfloc.com/collections/everything-under-the-sun', 'https://www.tripadvisor.com/Attraction_Review-g317095-d26496263-Reviews-Offbeat_Kashmir_Tour_Package-Gulmarg_Baramulla_District_Kashmir_Jammu_and_Kashmi.html', 'https://www.wildfloc.com/tours/adventure-sports-in-gulmarg', 'https://www.wildfloc.com/skiing-in-gulmarg', 'https://www.wildfloc.com/', 'https://www.yatra.com/india-tour-packages/holidays-in-gulmarg', 'https://www.wildfloc.com/collections/tours-and-travelling']\n"
     ]
    }
   ],
   "source": [
    "print(urls)"
   ]
  },
  {
   "cell_type": "code",
   "execution_count": 31,
   "metadata": {},
   "outputs": [
    {
     "data": {
      "text/plain": [
       "AIMessage(content=\"I don't know.\", response_metadata={'token_usage': {'completion_tokens': 5, 'prompt_tokens': 406, 'total_tokens': 411}, 'model_name': 'gpt-3.5-turbo', 'system_fingerprint': None, 'finish_reason': 'stop', 'logprobs': None}, id='run-99b34dfb-016a-44c4-b180-ba2c7648c872-0')"
      ]
     },
     "execution_count": 31,
     "metadata": {},
     "output_type": "execute_result"
    }
   ],
   "source": [
    "chain.invoke({\n",
    "    \"context\": response,\n",
    "    \"question\": \"Self drive car rentals price\"\n",
    "})"
   ]
  },
  {
   "cell_type": "code",
   "execution_count": 33,
   "metadata": {},
   "outputs": [
    {
     "data": {
      "text/plain": [
       "'/home/bhat/ALQ/ALQ-Projects/mowasalat_bot'"
      ]
     },
     "execution_count": 33,
     "metadata": {},
     "output_type": "execute_result"
    }
   ],
   "source": [
    "%pwd"
   ]
  },
  {
   "cell_type": "code",
   "execution_count": 4,
   "metadata": {},
   "outputs": [],
   "source": [
    "import redis\n",
    "import json"
   ]
  },
  {
   "cell_type": "code",
   "execution_count": 5,
   "metadata": {},
   "outputs": [],
   "source": [
    "def fetch_settings(app_id: str) -> dict:\n",
    "    settings= redis_client.get(app_id)\n",
    "    if settings:\n",
    "        return json.loads(settings)\n",
    "    return {}"
   ]
  },
  {
   "cell_type": "code",
   "execution_count": 12,
   "metadata": {},
   "outputs": [],
   "source": [
    "redis_client= redis.Redis(\n",
    "  host=os.environ.get(\"REDIS_HOST\"),\n",
    "  port=int(os.environ.get(\"REDIS_PORT\")),\n",
    "  password=os.environ.get(\"REDIS_PASSWORD\"))"
   ]
  },
  {
   "cell_type": "code",
   "execution_count": 13,
   "metadata": {},
   "outputs": [],
   "source": [
    "settings= fetch_settings(\"wildfloc\")"
   ]
  },
  {
   "cell_type": "code",
   "execution_count": 14,
   "metadata": {},
   "outputs": [
    {
     "name": "stdout",
     "output_type": "stream",
     "text": [
      "alq-ai-team/wildfloc\n"
     ]
    }
   ],
   "source": [
    "prompt_id= settings[\"parent_settings\"][\"agent_id\"]\n",
    "print(prompt_id)"
   ]
  },
  {
   "cell_type": "code",
   "execution_count": 15,
   "metadata": {},
   "outputs": [
    {
     "name": "stdout",
     "output_type": "stream",
     "text": [
      "input_variables=['agent_scratchpad', 'chat_history', 'input'] input_types={'chat_history': typing.List[typing.Union[langchain_core.messages.ai.AIMessage, langchain_core.messages.human.HumanMessage, langchain_core.messages.chat.ChatMessage, langchain_core.messages.system.SystemMessage, langchain_core.messages.function.FunctionMessage, langchain_core.messages.tool.ToolMessage]], 'agent_scratchpad': typing.List[typing.Union[langchain_core.messages.ai.AIMessage, langchain_core.messages.human.HumanMessage, langchain_core.messages.chat.ChatMessage, langchain_core.messages.system.SystemMessage, langchain_core.messages.function.FunctionMessage, langchain_core.messages.tool.ToolMessage]]} metadata={'lc_hub_owner': 'alq-ai-team', 'lc_hub_repo': 'wildfloc', 'lc_hub_commit_hash': 'bd69af93914107dbb32f8da8b68eacfe31590a2d86e0b68ecbfa05aa4084763f'} messages=[SystemMessagePromptTemplate(prompt=PromptTemplate(input_variables=[], template='You provide information about Wildfloc\\'s tour offerings, destinations, pricing, reviews, and any other relevant details sourced from their website. Your responses should aim to be informative and helpful for those interested in learning more about Wildfloc\\'s tours and travel experiences. If the user\\'s query pertains specifically to Wildfloc and their tour packages, GPT should provide comprehensive information based on what is publicly available on their website. However, if the question falls outside the scope of Wildfloc\\'s offerings or the information is not available on their website, GPT should politely indicate its limitations and suggest alternative sources for that particular topic. Sample Response: \"Sure! I\\'d be happy to assist you with information about Wildfloc. I can provide details about their tour offerings, destinations, pricing, reviews, and any other relevant information available on their website. However, please note that my responses are based solely on publicly available information from the Wildfloc website. If your question pertains to topics beyond Wildfloc\\'s tour packages or falls outside the scope of their website, I\\'m afraid I won\\'t be able to provide specific details. So, feel free to ask me anything related to Wildfloc, and I\\'ll do my best to provide you with comprehensive details sourced directly from their website. If you have questions about other topics, please let me know, and I\\'ll be happy to assist you further!\"')), MessagesPlaceholder(variable_name='chat_history'), HumanMessagePromptTemplate(prompt=PromptTemplate(input_variables=['input'], template='{input}')), MessagesPlaceholder(variable_name='agent_scratchpad')]\n"
     ]
    }
   ],
   "source": [
    "from langchain import hub\n",
    "# LANGCHAIN_API_KEY= os.environ.get(\"LANGCHAIN_API_KEY\")\n",
    "prompt = hub.pull(prompt_id)\n",
    "print(prompt)"
   ]
  },
  {
   "cell_type": "code",
   "execution_count": null,
   "metadata": {},
   "outputs": [],
   "source": [
    "document \n",
    "query"
   ]
  },
  {
   "cell_type": "code",
   "execution_count": 51,
   "metadata": {},
   "outputs": [],
   "source": [
    "response, urls= perform_search(\"car rental trips\")"
   ]
  },
  {
   "cell_type": "code",
   "execution_count": 52,
   "metadata": {},
   "outputs": [
    {
     "data": {
      "text/plain": [
       "'Rent a Luxury self-drive vehicle in Kashmir. For the first time in Kashmir, book luxury self-drive cars with Wildfloc. Book Audi, BMW and more with ... Rent a self drive vehicle in Kashmir. Now you can book self drive rental SUVs and hatchbacks only with Wildfloc Adventures with unparallel service. You can book self-drive SUVs and cars per day basis with Wildfloc Adventures. With every booking get complimentary and honest guidance on your trip. Make a ... Booking your next trip to Gulmarg? Get ready for some of the most exciting adventures in Winter Wonderland. Wildfloc is here to make your journey ... Wildfloc is your one-stop adventure destination. Book the best travel & adventure trips anywhere at UNBEATABLE prices. Check out all our offers here. Anything from renting a Self Drive Car or a Bike is available with Wildfloc, your one stop shop for travel. Be sure to check out our other products as well ... Tours. 3 Day Camping trip to Gurez · A Yusmarg Adventure Circuit - 3 Days 2 Nights Camping · Adventure Sports in Gulmarg · Athwatoo - Bandipora Wildfloc, your one-stop travel website, provides bikes on rent. Choose from a range of Royal Enfield bikes for your short or long tours. Click now to BOOK!! Rent Camping Tents, Sleeping Bags, Trekking Shoes, Backpacks and much more with Wildfloc. Click to BOOK NOW!!'"
      ]
     },
     "execution_count": 52,
     "metadata": {},
     "output_type": "execute_result"
    }
   ],
   "source": [
    "response"
   ]
  },
  {
   "cell_type": "code",
   "execution_count": 53,
   "metadata": {},
   "outputs": [
    {
     "data": {
      "text/plain": [
       "['https://www.wildfloc.com/tours/car-rental-in-srinagar',\n",
       " 'https://www.wildfloc.com/luxury-self-drive-car-rental-in-srinagar',\n",
       " 'https://www.wildfloc.com/rent-camping-equipment-in-kashmir',\n",
       " 'https://www.wildfloc.com/collections/activities',\n",
       " 'https://www.wildfloc.com/collections/everything-under-the-sun',\n",
       " 'https://www.wildfloc.com/',\n",
       " 'https://www.wildfloc.com/rent-bike-in-kashmir',\n",
       " 'https://www.wildfloc.com/sitemap',\n",
       " 'https://www.wildfloc.com/tours/self-drive-car-rental-in-srinagar']"
      ]
     },
     "execution_count": 53,
     "metadata": {},
     "output_type": "execute_result"
    }
   ],
   "source": [
    "urls"
   ]
  },
  {
   "cell_type": "code",
   "execution_count": 30,
   "metadata": {},
   "outputs": [],
   "source": [
    "settings= {\n",
    "    \"settings\": {\n",
    "        \"Tools\": {\n",
    "            \"wb_tool\": {\n",
    "                \"website_url\": \"wildfloc.com\",\n",
    "                \"prompt_id\": \"alq-ai-team/wildfloc-chain\",\n",
    "                \"description\": \"This is a websearch tool it can be used to answer question whach are about wildfloc\"\n",
    "            }\n",
    "        },\n",
    "        \"parent_settings\": {\n",
    "            \"agent_id\": \"alq-ai-team/wildfloc\"\n",
    "        }\n",
    "    }\n",
    "}\n"
   ]
  },
  {
   "cell_type": "code",
   "execution_count": 31,
   "metadata": {},
   "outputs": [],
   "source": [
    "import json \n",
    "json_data = json.dumps(settings, indent=4)"
   ]
  },
  {
   "cell_type": "code",
   "execution_count": 32,
   "metadata": {},
   "outputs": [
    {
     "ename": "AttributeError",
     "evalue": "'str' object has no attribute 'get'",
     "output_type": "error",
     "traceback": [
      "\u001b[0;31m---------------------------------------------------------------------------\u001b[0m",
      "\u001b[0;31mAttributeError\u001b[0m                            Traceback (most recent call last)",
      "Cell \u001b[0;32mIn[32], line 1\u001b[0m\n\u001b[0;32m----> 1\u001b[0m \u001b[43mjson_data\u001b[49m\u001b[38;5;241;43m.\u001b[39;49m\u001b[43mget\u001b[49m(\u001b[38;5;124m\"\u001b[39m\u001b[38;5;124mwebsite_url\u001b[39m\u001b[38;5;124m\"\u001b[39m)\n",
      "\u001b[0;31mAttributeError\u001b[0m: 'str' object has no attribute 'get'"
     ]
    }
   ],
   "source": [
    "json_data.get(\"website_url\")"
   ]
  },
  {
   "cell_type": "code",
   "execution_count": null,
   "metadata": {},
   "outputs": [],
   "source": []
  },
  {
   "cell_type": "code",
   "execution_count": 27,
   "metadata": {},
   "outputs": [
    {
     "name": "stdout",
     "output_type": "stream",
     "text": [
      "None\n"
     ]
    }
   ],
   "source": [
    "print(settings.get(\"website_url\"))"
   ]
  },
  {
   "cell_type": "code",
   "execution_count": 28,
   "metadata": {},
   "outputs": [
    {
     "name": "stdout",
     "output_type": "stream",
     "text": [
      "alq-ai-team/wildfloc-chain\n"
     ]
    }
   ],
   "source": [
    "print(settings[\"settings\"][\"Tools\"][\"wb_tool\"][\"prompt_id\"])"
   ]
  },
  {
   "cell_type": "code",
   "execution_count": 29,
   "metadata": {},
   "outputs": [
    {
     "ename": "SyntaxError",
     "evalue": "invalid syntax (2676822270.py, line 5)",
     "output_type": "error",
     "traceback": [
      "\u001b[0;36m  Cell \u001b[0;32mIn[29], line 5\u001b[0;36m\u001b[0m\n\u001b[0;31m    },\"parent_settings\": {\u001b[0m\n\u001b[0m                       ^\u001b[0m\n\u001b[0;31mSyntaxError\u001b[0m\u001b[0;31m:\u001b[0m invalid syntax\n"
     ]
    }
   ],
   "source": [
    "settings= {\n",
    "    \"website_url\": \"www.wildfloc.com\",\n",
    "    \"prompt_id\": \"alq-ai-team/wildfloc-chain\",\n",
    "    \"description\": \"This is a websearch tool it can be used to answer question whach are about wildfloc\" \n",
    "},\"parent_settings\": {\n",
    "            \"agent_id\": \"alq-ai-team/wildfloc\"\n",
    "        }\n"
   ]
  },
  {
   "cell_type": "code",
   "execution_count": 23,
   "metadata": {},
   "outputs": [
    {
     "data": {
      "text/plain": [
       "'alq-ai-team/wildfloc-chain'"
      ]
     },
     "execution_count": 23,
     "metadata": {},
     "output_type": "execute_result"
    }
   ],
   "source": [
    "settings.get(\"prompt_id\")"
   ]
  },
  {
   "cell_type": "code",
   "execution_count": null,
   "metadata": {},
   "outputs": [],
   "source": []
  }
 ],
 "metadata": {
  "kernelspec": {
   "display_name": "venv",
   "language": "python",
   "name": "python3"
  },
  "language_info": {
   "codemirror_mode": {
    "name": "ipython",
    "version": 3
   },
   "file_extension": ".py",
   "mimetype": "text/x-python",
   "name": "python",
   "nbconvert_exporter": "python",
   "pygments_lexer": "ipython3",
   "version": "3.10.12"
  }
 },
 "nbformat": 4,
 "nbformat_minor": 2
}
